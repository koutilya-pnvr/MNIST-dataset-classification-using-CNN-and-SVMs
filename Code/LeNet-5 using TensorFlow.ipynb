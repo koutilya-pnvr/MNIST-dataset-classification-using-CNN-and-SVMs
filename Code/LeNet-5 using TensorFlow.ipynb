{
 "cells": [
  {
   "cell_type": "markdown",
   "metadata": {},
   "source": [
    "# MNIST dataset classification using CNN\n",
    "In this project a CNN (Convolution Neural Network) is used to classify an MNIST dataset. The architecture is similar to that of LeNet-5 explained by [Yann LeCun](yann.lecun.com/exdb/publis/pdf/lecun-01a.pdf) that is shown below:\n",
    "<img src=\"lenet5.png\" width=\"700\" height=\"700\" />\n",
    "\n",
    "Now some the features of the Lenet-5 architecture is not exactly implementable in TensorFlow:\n",
    "1. Trainable coefficients at the Pooling layer:\n",
    "    1. The actual LeNet-5 architecture uses trainable coefficients at the pooling layers whereas this project simply uses a Max pooling layer\n",
    "    \n",
    "A stride of 1 is used for the convolution layers and stride of 2 is used for the pooling layers in this demo."
   ]
  },
  {
   "cell_type": "code",
   "execution_count": 1,
   "metadata": {
    "collapsed": true,
    "deletable": true,
    "editable": true
   },
   "outputs": [],
   "source": [
    "import numpy as np\n",
    "import tensorflow as tf\n",
    "from tensorflow.examples.tutorials.mnist import input_data\n",
    "from tensorflow.contrib.layers import flatten"
   ]
  },
  {
   "cell_type": "code",
   "execution_count": 2,
   "metadata": {
    "collapsed": false,
    "deletable": true,
    "editable": true
   },
   "outputs": [
    {
     "name": "stdout",
     "output_type": "stream",
     "text": [
      "Extracting ./train-images-idx3-ubyte.gz\n",
      "Extracting ./train-labels-idx1-ubyte.gz\n",
      "Extracting ./t10k-images-idx3-ubyte.gz\n",
      "Extracting ./t10k-labels-idx1-ubyte.gz\n"
     ]
    }
   ],
   "source": [
    "mnist=input_data.read_data_sets(\".\",one_hot=True,reshape=False)"
   ]
  },
  {
   "cell_type": "markdown",
   "metadata": {
    "deletable": true,
    "editable": true
   },
   "source": [
    "### Data Processing steps"
   ]
  },
  {
   "cell_type": "code",
   "execution_count": 3,
   "metadata": {
    "collapsed": false,
    "deletable": true,
    "editable": true
   },
   "outputs": [
    {
     "name": "stdout",
     "output_type": "stream",
     "text": [
      "Training samples:  (55000, 28, 28, 1)\n",
      "Validation samples:  (5000, 28, 28, 1)\n",
      "Test samples:  (10000, 28, 28, 1)\n",
      "\n",
      "After Padding:\n",
      "Training samples:  (55000, 32, 32, 1)\n",
      "Validation samples:  (5000, 32, 32, 1)\n",
      "Test samples:  (10000, 32, 32, 1)\n"
     ]
    }
   ],
   "source": [
    "X_train, y_train           = mnist.train.images, mnist.train.labels\n",
    "X_validation, y_validation = mnist.validation.images, mnist.validation.labels\n",
    "X_test, y_test             = mnist.test.images, mnist.test.labels\n",
    "\n",
    "print(\"Training samples: \",X_train.shape)\n",
    "print(\"Validation samples: \",X_validation.shape)\n",
    "print(\"Test samples: \",X_test.shape)\n",
    "\n",
    "X_train=np.pad(X_train,((0,0),(2,2),(2,2),(0,0)),'constant')\n",
    "X_validation=np.pad(X_validation,((0,0),(2,2),(2,2),(0,0)),'constant')\n",
    "X_test=np.pad(X_test,((0,0),(2,2),(2,2),(0,0)),'constant')\n",
    "\n",
    "print(\"\\nAfter Padding:\")\n",
    "print(\"Training samples: \",X_train.shape)\n",
    "print(\"Validation samples: \",X_validation.shape)\n",
    "print(\"Test samples: \",X_test.shape)\n",
    "\n",
    "from sklearn.utils import shuffle\n",
    "X_train, y_train = shuffle( X_train, y_train)\n",
    "\n",
    "def padding_shuffling(X,Y):\n",
    "    X=np.pad(X,((0,0),(2,2),(2,2),(0,0)),'constant')\n",
    "    X, Y = shuffle(X, Y)\n",
    "    return (X,Y)"
   ]
  },
  {
   "cell_type": "code",
   "execution_count": 4,
   "metadata": {
    "collapsed": true,
    "deletable": true,
    "editable": true
   },
   "outputs": [],
   "source": [
    "# Parameters\n",
    "learning_rate = 0.001\n",
    "epochs = 40\n",
    "batch_size = 128\n",
    "#test_valid_size=256   # Number of samples to calculate validation and accuracy\n",
    "#dropout=0.75 $try using dropout in the design"
   ]
  },
  {
   "cell_type": "code",
   "execution_count": 5,
   "metadata": {
    "collapsed": false,
    "deletable": true,
    "editable": true
   },
   "outputs": [],
   "source": [
    "x=tf.placeholder(tf.float32,[None, 32, 32, 1])\n",
    "y1=tf.placeholder(tf.int32,[None])\n",
    "y=tf.one_hot(y1,10)\n",
    "keep_prob = tf.placeholder(tf.float32)\n",
    "\n",
    "W={'wc1':tf.Variable(tf.random_normal([5,5,1,6],stddev=0.1)),\n",
    "   'wp1':tf.Variable(tf.random_normal([6,1],stddev=0.1)),\n",
    "   'wc2':tf.Variable(tf.random_normal([5,5,6,16],stddev=0.1)),\n",
    "   'wp2':tf.Variable(tf.random_normal([16,1],stddev=0.1)),\n",
    "   'wf1':tf.Variable(tf.random_normal([5*5*16,120],stddev=0.1)),\n",
    "   'wf2':tf.Variable(tf.random_normal([120,84],stddev=0.1)),\n",
    "   'wout':tf.Variable(tf.random_normal([84,10],stddev=0.1))\n",
    "  }\n",
    "biases={'bc1':tf.Variable(tf.random_normal([6])+0.1),\n",
    "        'bp1':tf.Variable(tf.random_normal([6])+0.1),\n",
    "        'bc2':tf.Variable(tf.random_normal([16])+0.1),\n",
    "        'bp2':tf.Variable(tf.random_normal([16])+0.1),\n",
    "        'bf1':tf.Variable(tf.random_normal([120])+0.1),\n",
    "        'bf2':tf.Variable(tf.truncated_normal([84])+0.1),\n",
    "        'bout':tf.Variable(tf.truncated_normal([10])+0.1)\n",
    "       }"
   ]
  },
  {
   "cell_type": "code",
   "execution_count": 6,
   "metadata": {
    "collapsed": false,
    "deletable": true,
    "editable": true
   },
   "outputs": [],
   "source": [
    "def conv_2d(x,w,b,stride=1):\n",
    "    x=tf.nn.conv2d(x,w,strides=[1,stride,stride,1],padding='VALID')\n",
    "    x=tf.nn.bias_add(x,b)\n",
    "    return tf.nn.relu(x)\n",
    "def pooling(x,w,b,k=2):\n",
    "    #k is the ksize of the filter (for LeNet-5 k=5)\n",
    "    return tf.nn.max_pool(x,ksize=[1,k,k,1],strides=[1,k,k,1],padding='VALID')"
   ]
  },
  {
   "cell_type": "code",
   "execution_count": 7,
   "metadata": {
    "collapsed": true,
    "deletable": true,
    "editable": true
   },
   "outputs": [],
   "source": [
    "def conv_NN(x,W,stride,biases,keep_prob):\n",
    "    conv_layer1=conv_2d(x,W['wc1'],biases['bc1'],stride)\n",
    "    conv_layer1=pooling(conv_layer1,W['wp1'],biases['bp1'])\n",
    "    \n",
    "    conv_layer2=conv_2d(conv_layer1,W['wc2'],biases['bc2'],stride)\n",
    "    conv_layer2=pooling(conv_layer2,W['wp2'],biases['bp2'])\n",
    "  \n",
    "    fc1=flatten(conv_layer2)#try using this layer as convolution layer and not as fully connected layer\n",
    "    fc1=tf.nn.bias_add(tf.matmul(fc1,W['wf1']),biases['bf1'])\n",
    "    fc1=tf.nn.relu(fc1)\n",
    "    fc1_drop = tf.nn.dropout(fc1, keep_prob)\n",
    "    \n",
    "    fc2=tf.nn.bias_add(tf.matmul(fc1_drop,W['wf2']),biases['bf2'])\n",
    "    fc2=tf.nn.relu(fc2)\n",
    "    \n",
    "    logits=tf.nn.bias_add(tf.matmul(fc2,W['wout']),biases['bout'])\n",
    "    return logits"
   ]
  },
  {
   "cell_type": "code",
   "execution_count": 8,
   "metadata": {
    "collapsed": false,
    "deletable": true,
    "editable": true
   },
   "outputs": [],
   "source": [
    "logits=conv_NN(x,W,1,biases,keep_prob)\n",
    "cost=tf.reduce_mean(tf.nn.softmax_cross_entropy_with_logits(logits=logits,labels=y))\n",
    "optimizer=tf.train.AdamOptimizer(learning_rate=learning_rate).minimize(cost)\n",
    "prediction=tf.equal(tf.arg_max(logits,1),tf.arg_max(y,1))\n",
    "accuracy=tf.reduce_mean(tf.cast(prediction,tf.float32))"
   ]
  },
  {
   "cell_type": "code",
   "execution_count": 89,
   "metadata": {
    "collapsed": false,
    "deletable": true,
    "editable": true
   },
   "outputs": [
    {
     "name": "stdout",
     "output_type": "stream",
     "text": [
      "Epoch  1, Batch 429 -Validation Accuracy: 0.955000\n",
      "Epoch  2, Batch 429 -Validation Accuracy: 0.974800\n",
      "Epoch  3, Batch 429 -Validation Accuracy: 0.978800\n",
      "Epoch  4, Batch 429 -Validation Accuracy: 0.982400\n",
      "Epoch  5, Batch 429 -Validation Accuracy: 0.983800\n",
      "Epoch  6, Batch 429 -Validation Accuracy: 0.984400\n",
      "Epoch  7, Batch 429 -Validation Accuracy: 0.986400\n",
      "Epoch  8, Batch 429 -Validation Accuracy: 0.987600\n",
      "Epoch  9, Batch 429 -Validation Accuracy: 0.988000\n",
      "Epoch 10, Batch 429 -Validation Accuracy: 0.987800\n",
      "Epoch 11, Batch 429 -Validation Accuracy: 0.987600\n",
      "Epoch 12, Batch 429 -Validation Accuracy: 0.988200\n",
      "Epoch 13, Batch 429 -Validation Accuracy: 0.988600\n",
      "Epoch 14, Batch 429 -Validation Accuracy: 0.988000\n",
      "Epoch 15, Batch 429 -Validation Accuracy: 0.989800\n",
      "Epoch 16, Batch 429 -Validation Accuracy: 0.988600\n",
      "Epoch 17, Batch 429 -Validation Accuracy: 0.989000\n",
      "Epoch 18, Batch 429 -Validation Accuracy: 0.989200\n",
      "Epoch 19, Batch 429 -Validation Accuracy: 0.987800\n",
      "Epoch 20, Batch 429 -Validation Accuracy: 0.990200\n",
      "Epoch 21, Batch 429 -Validation Accuracy: 0.990800\n",
      "Epoch 22, Batch 429 -Validation Accuracy: 0.988400\n",
      "Epoch 23, Batch 429 -Validation Accuracy: 0.989200\n",
      "Epoch 24, Batch 429 -Validation Accuracy: 0.989400\n",
      "Epoch 25, Batch 429 -Validation Accuracy: 0.990000\n",
      "Epoch 26, Batch 429 -Validation Accuracy: 0.990000\n",
      "Epoch 27, Batch 429 -Validation Accuracy: 0.989200\n",
      "Epoch 28, Batch 429 -Validation Accuracy: 0.989200\n",
      "Epoch 29, Batch 429 -Validation Accuracy: 0.989200\n",
      "Epoch 30, Batch 429 -Validation Accuracy: 0.988400\n",
      "Epoch 31, Batch 429 -Validation Accuracy: 0.989400\n",
      "Epoch 32, Batch 429 -Validation Accuracy: 0.990000\n",
      "Epoch 33, Batch 429 -Validation Accuracy: 0.989600\n",
      "Epoch 34, Batch 429 -Validation Accuracy: 0.989600\n",
      "Epoch 35, Batch 429 -Validation Accuracy: 0.990000\n",
      "Epoch 36, Batch 429 -Validation Accuracy: 0.990400\n",
      "Epoch 37, Batch 429 -Validation Accuracy: 0.990800\n",
      "Epoch 38, Batch 429 -Validation Accuracy: 0.991800\n",
      "Epoch 39, Batch 429 -Validation Accuracy: 0.991000\n",
      "Epoch 40, Batch 429 -Validation Accuracy: 0.990800\n",
      "Testing Accuracy: 0.9896000623703003\n",
      "Model saved in file: MNIST_model.ckpt\n"
     ]
    }
   ],
   "source": [
    "init=tf.global_variables_initializer()\n",
    "saver = tf.train.Saver()\n",
    "with tf.Session() as sess:\n",
    "    sess.run(init)\n",
    "    for epoch in range(epochs):\n",
    "        for batch in range(mnist.train.num_examples//batch_size):\n",
    "            batchX,batchY=mnist.train.next_batch(batch_size=batch_size)\n",
    "            batchX,batchY=padding_shuffling(batchX,batchY)\n",
    "            \"\"\"if epoch%100 == 0:\n",
    "                train_accuracy = accuracy.eval(feed_dict={x:batchX, y: batchY, keep_prob: 1.0})\n",
    "                print(\"step %d, training accuracy %g\"%(epoch, train_accuracy))\"\"\"\n",
    "            sess.run(optimizer,feed_dict={x:batchX,y:batchY,keep_prob:0.5})\n",
    "            #loss=sess.run(cost,feed_dict={x:batchX,y:batchY,keep_prob:0.5})\n",
    "        val_acc=sess.run(accuracy,feed_dict={x:X_validation,y:y_validation,keep_prob:1.0})\n",
    "        print('Epoch {:>2}, Batch {:>3} -'\n",
    "                'Validation Accuracy: {:.6f}'.format(\n",
    "            epoch + 1,\n",
    "            batch + 1,\n",
    "            val_acc))\n",
    "    test_accuracy=sess.run(accuracy,feed_dict={x:X_test,y:y_test,keep_prob:1.0})\n",
    "    print('Testing Accuracy: {}'.format(test_accuracy))\n",
    "    save_path = saver.save(sess, \"MNIST_model.ckpt\")\n",
    "    print(\"Model saved in file: %s\" % save_path)"
   ]
  },
  {
   "cell_type": "markdown",
   "metadata": {},
   "source": [
    "# Implementation Result\n",
    "We can see that a test accuracy of 98.96% is acheived for this CNN. The architecture followed in this project is: \n",
    "\n",
    "Input Layer -> Conv -> Max Pooling -> Conv -> Max Pooling -> Fully Connected -> Fully Connected -> Output Layer\n",
    "\n",
    "The parameters were as follows:\n",
    "\n",
    "1. Learning rate= 0.001\n",
    "2. Batch size   = 128\n",
    "3. Optimizer    = Adam\n",
    "4. Cost         = Softmax cross-entropy\n",
    "\n",
    "Some of these parameters are studied in the following sections starting with learning rates. You can find the results at the end of the corresponding sections.\n",
    "\n",
    "## 1. Variation in learning rate\n",
    "In this section the learning rate is varied from 0.00001 to 0.1 on a logarithmic scale for the same architecture discussed above for (Epochs: 30, Batch sixe: 128) configuration to see its effect on the test accuracy of the network."
   ]
  },
  {
   "cell_type": "code",
   "execution_count": 61,
   "metadata": {
    "collapsed": false
   },
   "outputs": [
    {
     "name": "stdout",
     "output_type": "stream",
     "text": [
      "[1e-05, 0.0001, 0.001, 0.01, 0.1]\n"
     ]
    }
   ],
   "source": [
    "import math\n",
    "lra=range(-5,0)\n",
    "lr=list()\n",
    "for i in lra:\n",
    "    lr.append(pow(10,i))\n",
    "print(lr)"
   ]
  },
  {
   "cell_type": "code",
   "execution_count": 62,
   "metadata": {
    "collapsed": false
   },
   "outputs": [
    {
     "name": "stdout",
     "output_type": "stream",
     "text": [
      "Learning rate:  1e-05  Completed\n",
      "Learning rate:  0.0001  Completed\n",
      "Learning rate:  0.001  Completed\n",
      "Learning rate:  0.01  Completed\n",
      "Learning rate:  0.1  Completed\n"
     ]
    }
   ],
   "source": [
    "test_accuracies=list()\n",
    "for lrate in lr:\n",
    "    x=tf.placeholder(tf.float32,[None, 32, 32, 1])\n",
    "    y=tf.placeholder(tf.int32,[None,10])\n",
    "    #y=tf.one_hot(y1,10)\n",
    "    keep_prob = tf.placeholder(tf.float32)\n",
    "    W={'wc1':tf.Variable(tf.random_normal([5,5,1,6],stddev=0.1)),\n",
    "       'wp1':tf.Variable(tf.random_normal([6,1],stddev=0.1)),\n",
    "       'wc2':tf.Variable(tf.random_normal([5,5,6,16],stddev=0.1)),\n",
    "       'wp2':tf.Variable(tf.random_normal([16,1],stddev=0.1)),\n",
    "       'wf1':tf.Variable(tf.random_normal([5*5*16,120],stddev=0.1)),\n",
    "       'wf2':tf.Variable(tf.random_normal([120,84],stddev=0.1)),\n",
    "       'wout':tf.Variable(tf.random_normal([84,10],stddev=0.1))\n",
    "      }\n",
    "    biases={'bc1':tf.Variable(tf.random_normal([6])+0.1),\n",
    "            'bp1':tf.Variable(tf.random_normal([6])+0.1),\n",
    "            'bc2':tf.Variable(tf.random_normal([16])+0.1),\n",
    "            'bp2':tf.Variable(tf.random_normal([16])+0.1),\n",
    "            'bf1':tf.Variable(tf.random_normal([120])+0.1),\n",
    "            'bf2':tf.Variable(tf.truncated_normal([84])+0.1),\n",
    "            'bout':tf.Variable(tf.truncated_normal([10])+0.1)\n",
    "           }\n",
    "    logits=conv_NN(x,W,1,biases,keep_prob)\n",
    "    cost=tf.reduce_mean(tf.nn.softmax_cross_entropy_with_logits(logits=logits,labels=y))\n",
    "    optimizer=tf.train.AdamOptimizer(learning_rate=lrate).minimize(cost)\n",
    "    prediction=tf.equal(tf.arg_max(logits,1),tf.arg_max(y,1))\n",
    "    accuracy=tf.reduce_mean(tf.cast(prediction,tf.float32))\n",
    "    init=tf.global_variables_initializer()\n",
    "    with tf.Session() as sess1:\n",
    "        sess1.run(init)\n",
    "        for epoch in range(30):\n",
    "            for batch in range(mnist.train.num_examples//batch_size):\n",
    "                batchX,batchY=mnist.train.next_batch(batch_size=128)\n",
    "                batchX,batchY=padding_shuffling(batchX,batchY)\n",
    "                \"\"\"if epoch%100 == 0:\n",
    "                    train_accuracy = accuracy.eval(feed_dict={x:batchX, y: batchY, keep_prob: 1.0})\n",
    "                    print(\"step %d, training accuracy %g\"%(epoch, train_accuracy))\"\"\"\n",
    "                sess1.run(optimizer,feed_dict={x:batchX,y:batchY,keep_prob:0.5})\n",
    "                #loss=sess.run(cost,feed_dict={x:batchX,y:batchY,keep_prob:0.5})\n",
    "                #val_acc=sess.run(accuracy,feed_dict={x:X_validation,y:y_validation,keep_prob:1.0})\n",
    "                \"\"\"print('Epoch {:>2}, Batch {:>3} -'\n",
    "                      'Validation Accuracy: {:.6f}'.format(\n",
    "                    epoch + 1,\n",
    "                    batch + 1,\n",
    "                    val_acc))\"\"\"\n",
    "        test_accuracies.append(sess1.run(accuracy,feed_dict={x:X_test,y:y_test,keep_prob:1.0}))\n",
    "        print(\"Learning rate: \",lrate,\" Completed\")"
   ]
  },
  {
   "cell_type": "code",
   "execution_count": 70,
   "metadata": {
    "collapsed": false,
    "scrolled": true
   },
   "outputs": [
    {
     "name": "stdout",
     "output_type": "stream",
     "text": [
      "Learning rates:  [1e-05, 0.0001, 0.001, 0.01, 0.1]\n",
      "Accuracies:  [0.90980017, 0.97860008, 0.99030012, 0.98400009, 0.1135]\n"
     ]
    },
    {
     "data": {
      "image/png": "[encoded data removed]",
      "text/plain": [
       "<matplotlib.figure.Figure at 0x7f5430268e10>"
      ]
     },
     "metadata": {},
     "output_type": "display_data"
    },
    {
     "data": {
      "image/png": "[encoded data removed]",
      "text/plain": [
       "<matplotlib.figure.Figure at 0x7f5430086dd8>"
      ]
     },
     "metadata": {},
     "output_type": "display_data"
    }
   ],
   "source": [
    "print(\"Learning rates: \",lr)\n",
    "print(\"Accuracies: \",test_accuracies)\n",
    "\n",
    "# Visualizing the data\n",
    "import matplotlib.pyplot as plt\n",
    "%matplotlib inline\n",
    "\n",
    "plt.semilogx(lr[:4],test_accuracies[:4])\n",
    "plt.xlabel(\"Learning rates\")\n",
    "plt.ylabel(\"Test Accuracies\")\n",
    "plt.title(\"Epochs: 30 Batch size: 128\")\n",
    "plt.show()\n",
    "\n",
    "plt.semilogx(lr,test_accuracies)\n",
    "plt.xlabel(\"Learning rates\")\n",
    "plt.ylabel(\"Test Accuracies\")\n",
    "plt.title(\"Epochs: 30 Batch size: 128\")\n",
    "plt.show()"
   ]
  },
  {
   "cell_type": "markdown",
   "metadata": {},
   "source": [
    "### Result 1: Variation in learning rate\n",
    "The first plot above is the zoomed version of the second plot. As we can see from the above two plots that increasing learning rates initially increases the test accuracy and then decreases it. Thsi is mainly because of the fact that slow learning rates takes lot of time to converge and yield a good accuracy and very high learning rates tend to diverge (instead of converging). Since we are running for only 30 epochs we are seeing a slightly lower accutacies for learning rates close to 0. The maximum test accuracy 0f 99.03% is noticed for learning rate=0.001 and there on incresing learning rate only worsens the accuracy. For very high learning rate of 0.1 we can see an accuracy of 11.35% which is very bad due to the divergence of the solution."
   ]
  },
  {
   "cell_type": "markdown",
   "metadata": {},
   "source": [
    "## 2. Variation in Batch Size\n",
    "In this section the batch size is varied from 32 to 512 on a linear scale for the same architecture discussed above for (Epochs: 30, Lerning rate: 0.001) configuration to see its effect on the test accuracy of the network."
   ]
  },
  {
   "cell_type": "code",
   "execution_count": 95,
   "metadata": {
    "collapsed": false,
    "deletable": true,
    "editable": true
   },
   "outputs": [
    {
     "name": "stdout",
     "output_type": "stream",
     "text": [
      "Batch size:  32  Completed\n",
      "Batch size:  64  Completed\n",
      "Batch size:  128  Completed\n",
      "Batch size:  256  Completed\n",
      "Batch size:  512  Completed\n"
     ]
    }
   ],
   "source": [
    "batch_sizes=[32,64,128,256,512]\n",
    "test_accuracies2=list()\n",
    "for b in batch_sizes:\n",
    "    x=tf.placeholder(tf.float32,[None, 32, 32, 1])\n",
    "    y=tf.placeholder(tf.int32,[None,10])\n",
    "    #y=tf.one_hot(y1,10)\n",
    "    keep_prob = tf.placeholder(tf.float32)\n",
    "    W={'wc1':tf.Variable(tf.random_normal([5,5,1,6],stddev=0.1)),\n",
    "       'wp1':tf.Variable(tf.random_normal([6,1],stddev=0.1)),\n",
    "       'wc2':tf.Variable(tf.random_normal([5,5,6,16],stddev=0.1)),\n",
    "       'wp2':tf.Variable(tf.random_normal([16,1],stddev=0.1)),\n",
    "       'wf1':tf.Variable(tf.random_normal([5*5*16,120],stddev=0.1)),\n",
    "       'wf2':tf.Variable(tf.random_normal([120,84],stddev=0.1)),\n",
    "       'wout':tf.Variable(tf.random_normal([84,10],stddev=0.1))\n",
    "      }\n",
    "    biases={'bc1':tf.Variable(tf.random_normal([6])+0.1),\n",
    "            'bp1':tf.Variable(tf.random_normal([6])+0.1),\n",
    "            'bc2':tf.Variable(tf.random_normal([16])+0.1),\n",
    "            'bp2':tf.Variable(tf.random_normal([16])+0.1),\n",
    "            'bf1':tf.Variable(tf.random_normal([120])+0.1),\n",
    "            'bf2':tf.Variable(tf.truncated_normal([84])+0.1),\n",
    "            'bout':tf.Variable(tf.truncated_normal([10])+0.1)\n",
    "           }\n",
    "    logits=conv_NN(x,W,1,biases,keep_prob)\n",
    "    cost=tf.reduce_mean(tf.nn.softmax_cross_entropy_with_logits(logits=logits,labels=y))\n",
    "    optimizer=tf.train.AdamOptimizer(learning_rate=0.001).minimize(cost)\n",
    "    prediction=tf.equal(tf.arg_max(logits,1),tf.arg_max(y,1))\n",
    "    accuracy=tf.reduce_mean(tf.cast(prediction,tf.float32))\n",
    "    init=tf.global_variables_initializer()\n",
    "    with tf.Session() as sess1:\n",
    "        sess1.run(init)\n",
    "        for epoch in range(30):\n",
    "            for batch in range(mnist.train.num_examples//b):\n",
    "                batchX,batchY=mnist.train.next_batch(batch_size=b)\n",
    "                batchX,batchY=padding_shuffling(batchX,batchY)\n",
    "                \"\"\"if epoch%100 == 0:\n",
    "                    train_accuracy = accuracy.eval(feed_dict={x:batchX, y: batchY, keep_prob: 1.0})\n",
    "                    print(\"step %d, training accuracy %g\"%(epoch, train_accuracy))\"\"\"\n",
    "                sess1.run(optimizer,feed_dict={x:batchX,y:batchY,keep_prob:0.5})\n",
    "                #loss=sess.run(cost,feed_dict={x:batchX,y:batchY,keep_prob:0.5})\n",
    "                #val_acc=sess.run(accuracy,feed_dict={x:X_validation,y:y_validation,keep_prob:1.0})\n",
    "                \"\"\"print('Epoch {:>2}, Batch {:>3} -'\n",
    "                      'Validation Accuracy: {:.6f}'.format(\n",
    "                    epoch + 1,\n",
    "                    batch + 1,\n",
    "                    val_acc))\"\"\"\n",
    "        test_accuracies2.append(sess1.run(accuracy,feed_dict={x:X_test,y:y_test,keep_prob:1.0}))\n",
    "        print(\"Batch size: \",b,\" Completed\")"
   ]
  },
  {
   "cell_type": "code",
   "execution_count": 97,
   "metadata": {
    "collapsed": false,
    "scrolled": true
   },
   "outputs": [
    {
     "name": "stdout",
     "output_type": "stream",
     "text": [
      "Batch sizes:  [32, 64, 128, 256, 512]\n",
      "Accuracies:  [0.98930013, 0.9898001, 0.98930013, 0.9891001, 0.98420012]\n"
     ]
    },
    {
     "data": {
      "image/png": "[encoded data removed]",
      "text/plain": [
       "<matplotlib.figure.Figure at 0x7f54157fb2b0>"
      ]
     },
     "metadata": {},
     "output_type": "display_data"
    }
   ],
   "source": [
    "print(\"Batch sizes: \",batch_sizes)\n",
    "print(\"Accuracies: \",test_accuracies2)\n",
    "\n",
    "plt.plot(batch_sizes,test_accuracies2)\n",
    "plt.xlabel(\"Batch Sizes\")\n",
    "plt.ylabel(\"Test Accuracies\")\n",
    "plt.title(\"Epochs: 30 Learning rate: 0.001\")\n",
    "plt.show()"
   ]
  },
  {
   "cell_type": "markdown",
   "metadata": {},
   "source": [
    "### Result 2: Varation in batch size\n",
    "We can see a decreasing trend in test accuracy with increasing batch size. This is expected because, if more training data is considered in a single forward/backward prop, weights update happen less frequently which means the network is not learning efficiently with in given number of epochs. Generally batches are used in cases when the memory requirement to train all the samples in a go is not met."
   ]
  },
  {
   "cell_type": "markdown",
   "metadata": {},
   "source": [
    "# Conclusion\n",
    "The architecture results and the affect of some parameters on the prediction accuracy of the network are discussed in this demo. A test accuracy of nearly 99% is acheived for MNIST dataset using CNN with in just 40 epochs whereas the [Tensorflow tutorial](https://www.tensorflow.org/get_started/mnist/pros) acheived 99.2% after training the mdoel for 20000 epochs. This is mainly because of the smart choosing of the some of the hyperparameters like learning rate and batch size through above analysis.\n",
    "\n",
    "Some more tweaks that can be done in this project as future work are as follows:\n",
    "1. Changing the aarchitecture altogether:\n",
    "    1. Changing the number of feature maps at every convolution layer\n",
    "    2. Using different type of Pooling layers (Ex: avg_pool() etc.)\n",
    "    3. Changing the strides and dimensions of the filters in all the convolution and pooling layers\n",
    "2. Using several other optimizers such (Ex: GradientDescent, Adagrad, Momentum etc)\n",
    "3. Using different type of cost functions (Ex: Least Mean square error, weighted cross-entropy etc)"
   ]
  },
  {
   "cell_type": "code",
   "execution_count": null,
   "metadata": {
    "collapsed": true
   },
   "outputs": [],
   "source": []
  }
 ],
 "metadata": {
  "kernelspec": {
   "display_name": "Python 3",
   "language": "python",
   "name": "python3"
  },
  "language_info": {
   "codemirror_mode": {
    "name": "ipython",
    "version": 3
   },
   "file_extension": ".py",
   "mimetype": "text/x-python",
   "name": "python",
   "nbconvert_exporter": "python",
   "pygments_lexer": "ipython3",
   "version": "3.5.2"
  }
 },
 "nbformat": 4,
 "nbformat_minor": 2
}
