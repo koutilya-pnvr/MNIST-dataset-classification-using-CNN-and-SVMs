{
 "cells": [
  {
   "cell_type": "markdown",
   "metadata": {},
   "source": [
    "# MNIST data classification using SVMs\n",
    "In this demonstration, I implemented two different SVM classifiers SVC() and LinearSVC() that are based on libsvm and liblinear libraries on MNIST datasets. In addition three different kernels are studied for the SVC() classifier:\n",
    "1. Radial Basis Function (RBF)\n",
    "2. Polynomial\n",
    "3. Linear\n",
    "\n",
    "In the second stage, PCA is applied on the dataset before classifying using LinearSVC() classifier. The effect on the prediction accuracy due to the chosen number of Principal components is also studied."
   ]
  },
  {
   "cell_type": "code",
   "execution_count": 1,
   "metadata": {
    "collapsed": false,
    "deletable": true,
    "editable": true
   },
   "outputs": [
    {
     "name": "stdout",
     "output_type": "stream",
     "text": [
      "Extracting ./train-images-idx3-ubyte.gz\n",
      "Extracting ./train-labels-idx1-ubyte.gz\n",
      "Extracting ./t10k-images-idx3-ubyte.gz\n",
      "Extracting ./t10k-labels-idx1-ubyte.gz\n"
     ]
    }
   ],
   "source": [
    "import numpy as np\n",
    "import tensorflow as tf\n",
    "from sklearn import svm,metrics\n",
    "from sklearn.decomposition import PCA\n",
    "from tensorflow.examples.tutorials.mnist import input_data\n",
    "from tensorflow.contrib.layers import flatten\n",
    "mnist=input_data.read_data_sets(\".\",one_hot=True,reshape=False)"
   ]
  },
  {
   "cell_type": "code",
   "execution_count": 2,
   "metadata": {
    "collapsed": false,
    "deletable": true,
    "editable": true,
    "scrolled": false
   },
   "outputs": [],
   "source": [
    "# Retrieve the training and test data\n",
    "trainX, trainY = flatten(mnist.train.images), mnist.train.labels\n",
    "testX, testY            = flatten(mnist.test.images), mnist.test.labels\n",
    "sess=tf.Session()\n",
    "with sess.as_default():\n",
    "    trainX=trainX.eval()\n",
    "    testX=testX.eval()"
   ]
  },
  {
   "cell_type": "code",
   "execution_count": 3,
   "metadata": {
    "collapsed": false,
    "deletable": true,
    "editable": true
   },
   "outputs": [],
   "source": [
    "label=[]\n",
    "for y in trainY:\n",
    "    label+=list(np.where(y==1)[0])\n",
    "test_label=[]\n",
    "for y in testY:\n",
    "    test_label+=list(np.where(y==1)[0])"
   ]
  },
  {
   "cell_type": "markdown",
   "metadata": {},
   "source": [
    "Having preprocessed the data, the choice of kernel is very important for classification purposes. The idea of using kernel is illustrated in the following figure:\n",
    "<img src=\"kernel.png\" width=\"600\" height=\"600\" />\n",
    "A Kernel essentially transforms a linearly non separable data into a higher dimensional feature space where we can find a hyperplane that can linearly separate the datapoints. The three most commonly used kernel functions in training an SVM are as follows:\n",
    "1. Radial Basis Function (RBF):\n",
    "    $$K(x^{(i)},x^{(j)}) = \\phi(x^{(i)})^T.\\phi(x^{(j)}) = e^{-\\gamma||x^{(i)}-x^{(j)}||^2}$$\n",
    "2. Polynomial:\n",
    "    $$K(x^{(i)},x^{(j)}) = (x^{(i)^{T}}.x^{(j)}+c)^d$$\n",
    "3. Linear:\n",
    "    $$K(x^{(i)},x^{(j)}) = x^{(i)^{T}}.x^{(j)}$$\n",
    "\n",
    "The following code sections shows the accuracy and some more important parameters for these three different kernels."
   ]
  },
  {
   "cell_type": "markdown",
   "metadata": {},
   "source": [
    "#### RBF Kernel"
   ]
  },
  {
   "cell_type": "code",
   "execution_count": 8,
   "metadata": {
    "collapsed": false,
    "deletable": true,
    "editable": true
   },
   "outputs": [
    {
     "name": "stdout",
     "output_type": "stream",
     "text": [
      "SVC(C=1.0, cache_size=200, class_weight=None, coef0=0.0,\n",
      "  decision_function_shape=None, degree=3, gamma='auto', kernel='rbf',\n",
      "  max_iter=-1, probability=False, random_state=None, shrinking=True,\n",
      "  tol=0.001, verbose=False)\n",
      "Support vectors dimenstions:  (18451, 784)\n",
      "Number of support vectors for each class 0-9:  [1050 1093 1866 2148 1875 2490 1385 1699 2355 2490]\n",
      "Indices of the support vectors:  [   52    82   144 ..., 54969 54973 54992]\n",
      "Accuracy for SVC:  0.9439\n"
     ]
    }
   ],
   "source": [
    "clf = svm.SVC()\n",
    "clf.fit(trainX, label) \n",
    "print(clf)\n",
    "\n",
    "print(\"Support vectors dimenstions: \",clf.support_vectors_.shape)\n",
    "print(\"Number of support vectors for each class 0-9: \",clf.n_support_ )\n",
    "print(\"Indices of the support vectors: \",clf.support_ )\n",
    "\n",
    "accuracy=clf.score(testX,test_label)\n",
    "print(\"Accuracy for SVC: \",accuracy)"
   ]
  },
  {
   "cell_type": "markdown",
   "metadata": {},
   "source": [
    "#### Poly Kernel"
   ]
  },
  {
   "cell_type": "code",
   "execution_count": 4,
   "metadata": {
    "collapsed": false
   },
   "outputs": [
    {
     "name": "stdout",
     "output_type": "stream",
     "text": [
      "SVC(C=1.0, cache_size=200, class_weight=None, coef0=0.0,\n",
      "  decision_function_shape=None, degree=3, gamma='auto', kernel='poly',\n",
      "  max_iter=-1, probability=False, random_state=None, shrinking=True,\n",
      "  tol=0.001, verbose=False)\n",
      "Support vectors dimenstions:  (51465, 784)\n",
      "Number of support vectors for each class 0-9:  [4006 5920 5055 5290 5306 4987 4921 5492 5065 5423]\n",
      "Indices of the support vectors:  [   10    48    52 ..., 54973 54990 54992]\n",
      "Accuracy for SVC using poly kernel :  0.5532\n"
     ]
    }
   ],
   "source": [
    "clf_poly = svm.SVC(kernel='poly')\n",
    "clf_poly.fit(trainX, label) \n",
    "print(clf_poly)\n",
    "\n",
    "print(\"Support vectors dimenstions: \",clf_poly.support_vectors_.shape)\n",
    "print(\"Number of support vectors for each class 0-9: \",clf_poly.n_support_ )\n",
    "print(\"Indices of the support vectors: \",clf_poly.support_ )\n",
    "\n",
    "accuracy_poly=clf_poly.score(testX,test_label)\n",
    "print(\"Accuracy for SVC using poly kernel : \",accuracy_poly)"
   ]
  },
  {
   "cell_type": "markdown",
   "metadata": {},
   "source": [
    "#### Linear Kernel"
   ]
  },
  {
   "cell_type": "code",
   "execution_count": 5,
   "metadata": {
    "collapsed": false
   },
   "outputs": [
    {
     "name": "stdout",
     "output_type": "stream",
     "text": [
      "SVC(C=1.0, cache_size=200, class_weight=None, coef0=0.0,\n",
      "  decision_function_shape=None, degree=3, gamma='auto', kernel='linear',\n",
      "  max_iter=-1, probability=False, random_state=None, shrinking=True,\n",
      "  tol=0.001, verbose=False)\n",
      "Support vectors dimenstions:  (9620, 784)\n",
      "Number of support vectors for each class 0-9:  [ 524  470 1027 1239  918 1287  647  898 1346 1264]\n",
      "Indices of the support vectors:  [   52   144   192 ..., 54969 54973 54992]\n",
      "Accuracy for SVC using poly kernel :  0.9393\n"
     ]
    }
   ],
   "source": [
    "clf_linK = svm.SVC(kernel='linear')\n",
    "clf_linK.fit(trainX, label) \n",
    "print(clf_linK)\n",
    "\n",
    "print(\"Support vectors dimenstions: \",clf_linK.support_vectors_.shape)\n",
    "print(\"Number of support vectors for each class 0-9: \",clf_linK.n_support_ )\n",
    "print(\"Indices of the support vectors: \",clf_linK.support_ )\n",
    "\n",
    "accuracy_linK=clf_linK.score(testX,test_label)\n",
    "print(\"Accuracy for SVC using poly kernel : \",accuracy_linK)"
   ]
  },
  {
   "cell_type": "markdown",
   "metadata": {},
   "source": [
    "Having studied the accuracies of 3 different kernels of SVC(), we see that the best accuracy is for the RBF kernel (94.39%). This is because the RBF kernel projects the data into an infinite dimensional space where finding a linear classifier (hyperplane) becomes much more probable. Also, we dont see much difference in using Linear or RBF Kernels because MNIST has 784 features. Thats huge in itself that one doesn't need to use a kernel function to project into a higher dimensional feature space. The data is almost linearly separable in the 784 dimensional feature space and thus using RBF kernel is computational expensive in this case as the classifier needs to train 2 cofficients \\gamma and C. We can also see that the polynomial kernel  with degree 3 has an accuracy of 55.32% and this can be increased if the degree of the polynomial kernel is increased to say 4 or 5. \n",
    "\n",
    "The following shows the classification report and the confusion matrix for SVC() using a RBF kernel."
   ]
  },
  {
   "cell_type": "code",
   "execution_count": 67,
   "metadata": {
    "collapsed": false,
    "deletable": true,
    "editable": true
   },
   "outputs": [
    {
     "name": "stdout",
     "output_type": "stream",
     "text": [
      "Classification report for classifier SVC(C=1.0, cache_size=200, class_weight=None, coef0=0.0,\n",
      "  decision_function_shape=None, degree=3, gamma='auto', kernel='rbf',\n",
      "  max_iter=-1, probability=False, random_state=None, shrinking=True,\n",
      "  tol=0.001, verbose=False):\n",
      "             precision    recall  f1-score   support\n",
      "\n",
      "          0       0.96      0.99      0.97       980\n",
      "          1       0.97      0.99      0.98      1135\n",
      "          2       0.94      0.93      0.93      1032\n",
      "          3       0.93      0.94      0.93      1010\n",
      "          4       0.93      0.95      0.94       982\n",
      "          5       0.93      0.91      0.92       892\n",
      "          6       0.95      0.97      0.96       958\n",
      "          7       0.96      0.93      0.94      1028\n",
      "          8       0.94      0.92      0.93       974\n",
      "          9       0.94      0.92      0.93      1009\n",
      "\n",
      "avg / total       0.94      0.94      0.94     10000\n",
      "\n",
      "\n",
      "Confusion matrix:\n",
      "[[ 967    0    1    0    0    5    5    1    1    0]\n",
      " [   0 1120    2    3    0    1    3    1    5    0]\n",
      " [   8    1  960    9   11    1   14    8   18    2]\n",
      " [   0    1   16  950    1   17    1    9   11    4]\n",
      " [   1    1    7    0  937    0    8    2    2   24]\n",
      " [   7    5    5   32    7  809   11    2    9    5]\n",
      " [   9    3    4    1    6    9  925    0    1    0]\n",
      " [   2   13   22    5    8    0    0  955    3   20]\n",
      " [   4    7    7   14    8   23   10    6  892    3]\n",
      " [   9    7    0   12   33    5    1   13    5  924]]\n"
     ]
    }
   ],
   "source": [
    "predicted=clf.predict(testX)\n",
    "expected=test_label\n",
    "\n",
    "#clf.get_params(deep=True)\n",
    "print(\"Classification report for classifier %s:\\n%s\\n\"\n",
    "      % (clf, metrics.classification_report(expected, predicted)))\n",
    "print(\"Confusion matrix:\\n%s\" % metrics.confusion_matrix(expected, predicted))"
   ]
  },
  {
   "cell_type": "markdown",
   "metadata": {
    "deletable": true,
    "editable": true
   },
   "source": [
    "# Linear SVM"
   ]
  },
  {
   "cell_type": "markdown",
   "metadata": {},
   "source": [
    "## Introduction\n",
    "The main difference between SVC() and LinearSVC() is that, they use libsvm and liblinear libraries respectively internally. So LinearSVC() has more flexibility in the choice of penalties and loss functions and should scale better to large numbers of samples.\n",
    "\n",
    "Also, in multiclass classification, liblinear does one-vs-rest by default whereas libsvm does one-vs-one. In other words, for a 10 class problem like MNIST, LinearSVC() produces just 10 classifiers whereas SVC() produces 10*(10-1)/2=45 classifiers."
   ]
  },
  {
   "cell_type": "code",
   "execution_count": 11,
   "metadata": {
    "collapsed": false,
    "deletable": true,
    "editable": true
   },
   "outputs": [
    {
     "name": "stdout",
     "output_type": "stream",
     "text": [
      "LinearSVC(C=1.0, class_weight=None, dual=True, fit_intercept=True,\n",
      "     intercept_scaling=1, loss='squared_hinge', max_iter=1000,\n",
      "     multi_class='ovr', penalty='l2', random_state=None, tol=0.0001,\n",
      "     verbose=0)\n",
      "Accuracy for linear SVM:  0.917\n"
     ]
    }
   ],
   "source": [
    "lin_clf = svm.LinearSVC()\n",
    "print(lin_clf.fit(trainX, label))\n",
    "lin_accuracy=lin_clf.score(testX,test_label)\n",
    "print(\"Accuracy for linear SVM: \",lin_accuracy)"
   ]
  },
  {
   "cell_type": "markdown",
   "metadata": {
    "deletable": true,
    "editable": true
   },
   "source": [
    "Note that the LinearSVC also implements an alternative multi-class strategy, the so-called multi-class SVM formulated by Crammer and Singer, by using the option multi_class='crammer_singer'. This method is consistent, which is not true for one-vs-rest classification. In practice, one-vs-rest classification is usually preferred, since the results are mostly similar, but the runtime is significantly less.\n",
    "\n",
    "As similar to previous, the classification report and the confusion matrix is shown below for the LinearSVC() classifier."
   ]
  },
  {
   "cell_type": "code",
   "execution_count": 69,
   "metadata": {
    "collapsed": false,
    "deletable": true,
    "editable": true,
    "scrolled": true
   },
   "outputs": [
    {
     "name": "stdout",
     "output_type": "stream",
     "text": [
      "Classification report for classifier LinearSVC(C=1.0, class_weight=None, dual=True, fit_intercept=True,\n",
      "     intercept_scaling=1, loss='squared_hinge', max_iter=1000,\n",
      "     multi_class='ovr', penalty='l2', random_state=None, tol=0.0001,\n",
      "     verbose=0):\n",
      "             precision    recall  f1-score   support\n",
      "\n",
      "          0       0.95      0.98      0.96       980\n",
      "          1       0.96      0.98      0.97      1135\n",
      "          2       0.94      0.88      0.91      1032\n",
      "          3       0.89      0.91      0.90      1010\n",
      "          4       0.91      0.93      0.92       982\n",
      "          5       0.89      0.86      0.87       892\n",
      "          6       0.94      0.95      0.94       958\n",
      "          7       0.92      0.92      0.92      1028\n",
      "          8       0.87      0.87      0.87       974\n",
      "          9       0.89      0.89      0.89      1009\n",
      "\n",
      "avg / total       0.92      0.92      0.92     10000\n",
      "\n",
      "\n",
      "Confusion matrix:\n",
      "[[ 960    0    1    1    1    4    7    3    2    1]\n",
      " [   0 1115    3    1    0    1    4    1   10    0]\n",
      " [  11    9  911   19   10    4   13   13   39    3]\n",
      " [   4    0   17  920    2   22    5   12   19    9]\n",
      " [   1    4    6    2  914    0    8    3    5   39]\n",
      " [  10    2    1   42   12  764   16    8   29    8]\n",
      " [   8    4    6    2    6   21  908    1    2    0]\n",
      " [   2   10   19    7    8    1    1  943    3   34]\n",
      " [  12   12    7   19   13   34    8   12  844   13]\n",
      " [   7    8    2   15   33   12    0   25   12  895]]\n"
     ]
    }
   ],
   "source": [
    "predicted_lin=lin_clf.predict(testX)\n",
    "\n",
    "#clf.get_params(deep=True)\n",
    "print(\"Classification report for classifier %s:\\n%s\\n\"\n",
    "      % (lin_clf, metrics.classification_report(expected, predicted_lin)))\n",
    "print(\"Confusion matrix:\\n%s\" % metrics.confusion_matrix(expected, predicted_lin))"
   ]
  },
  {
   "cell_type": "markdown",
   "metadata": {},
   "source": [
    "# Results Summary so far"
   ]
  },
  {
   "cell_type": "markdown",
   "metadata": {},
   "source": [
    "I studied 2 SVM functions in the sklearn library for the MNIST dataset, SVC() and LinearSVC(). The MNIST dataset is as follows:\n",
    "1. Training: 55000 images\n",
    "2. Test    : 10000 images\n",
    "\n",
    "I also studied the SVC_SVM for 3 different kernels: RBF, Poly and Linear. From the above results, we can see that the accuracies for the three versions of SVC_SVM are 94.39%, 55.32% , 93.33% respectively.\n",
    "Also, the accuracy for the LinearSVC is found to be 91.7%"
   ]
  },
  {
   "cell_type": "markdown",
   "metadata": {
    "deletable": true,
    "editable": true
   },
   "source": [
    "### PCA on a linearSVM"
   ]
  },
  {
   "cell_type": "code",
   "execution_count": 18,
   "metadata": {
    "collapsed": false,
    "deletable": true,
    "editable": true
   },
   "outputs": [],
   "source": [
    "accuracies=list()\n",
    "for k in range(100,500,50):\n",
    "    pca= PCA(n_components=k)\n",
    "    pca.fit(trainX)\n",
    "    train_pca=pca.transform(trainX)\n",
    "    test_pca=pca.transform(testX)\n",
    "    lin_clf1 = svm.LinearSVC()\n",
    "    lin_clf1.fit(train_pca, label)\n",
    "    accuracies.append(lin_clf1.score(test_pca,test_label))"
   ]
  },
  {
   "cell_type": "code",
   "execution_count": 20,
   "metadata": {
    "collapsed": false
   },
   "outputs": [
    {
     "data": {
      "image/png": "[encoded data removed]",
      "text/plain": [
       "<matplotlib.figure.Figure at 0x7f1f20023cf8>"
      ]
     },
     "metadata": {},
     "output_type": "display_data"
    }
   ],
   "source": [
    "# Visualizing the data\n",
    "import matplotlib.pyplot as plt\n",
    "%matplotlib inline\n",
    "\n",
    "plt.plot(list(range(100,500,50)),accuracies)\n",
    "plt.xlabel(\"Number of Principal Components\")\n",
    "plt.ylabel(\"Accuracy\")\n",
    "plt.title(\"PCA applied on Linear SVM\")\n",
    "plt.show()"
   ]
  },
  {
   "cell_type": "markdown",
   "metadata": {},
   "source": [
    "## Discussion: PCA applied on LinearSVC() SVM\n",
    "We can see an overall increasing trend of the accuracy with the number of principal components. The classification accuracy is traded for the improvement in SVM training time for lower dimensional feature space training data. SVM is essentially a convex Quadratic problem the solving time of which is highly dependent on the number of training vectors and number of features in each vector. The main reason for rhis behavior is due to the calculation of Kernel matrix that's happening internally and which is computationally intensive.\n",
    "\n",
    "We can see that the accuracy is not much reduced with reducing the number of principal components (91.8% -> 91.3% from 450 -> 100 PCAs). But instead by doing PCA we will gain lot of advantage on computational time in training the SVM."
   ]
  },
  {
   "cell_type": "code",
   "execution_count": null,
   "metadata": {
    "collapsed": true
   },
   "outputs": [],
   "source": []
  }
 ],
 "metadata": {
  "kernelspec": {
   "display_name": "Python 3",
   "language": "python",
   "name": "python3"
  },
  "language_info": {
   "codemirror_mode": {
    "name": "ipython",
    "version": 3
   },
   "file_extension": ".py",
   "mimetype": "text/x-python",
   "name": "python",
   "nbconvert_exporter": "python",
   "pygments_lexer": "ipython3",
   "version": "3.6.0"
  }
 },
 "nbformat": 4,
 "nbformat_minor": 2
}
